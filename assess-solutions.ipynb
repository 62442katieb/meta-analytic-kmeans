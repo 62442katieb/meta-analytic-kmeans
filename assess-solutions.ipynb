{
 "cells": [
  {
   "cell_type": "code",
   "execution_count": 88,
   "metadata": {
    "collapsed": true
   },
   "outputs": [],
   "source": [
    "import numpy as np\n",
    "import pandas as pd\n",
    "import scipy.io as sio\n",
    "from scipy.signal import argrelmin"
   ]
  },
  {
   "cell_type": "code",
   "execution_count": null,
   "metadata": {
    "collapsed": true
   },
   "outputs": [],
   "source": [
    "nat_mat = sio.loadmat('/Users/Katie/Dropbox/Data/Naturalistic/NewSolution/Naturalistic_11.25.17.mat')"
   ]
  },
  {
   "cell_type": "code",
   "execution_count": 147,
   "metadata": {},
   "outputs": [],
   "source": [
    "#read in metrics from .mat files exported from matlab\n",
    "metrics = {}\n",
    "metrics['vi'] = nat_mat['VI'].T\n",
    "metrics['sil'] = nat_mat['avg_sil'].T\n",
    "metrics['hi'] = nat_mat['HI'].T\n",
    "cc = nat_mat['cluster_consistency']\n",
    "consistency = cc[:,1] / cc[:,0]\n",
    "metrics['cc'] = consistency.reshape(9,1)"
   ]
  },
  {
   "cell_type": "code",
   "execution_count": 184,
   "metadata": {},
   "outputs": [
    {
     "name": "stdout",
     "output_type": "stream",
     "text": [
      "Cluster consistency metrics indicate that solutions [2 3 4 5 6 7 8] are valid.\n",
      "This means that the minimum number of consistently assigned experiments was at least half the mean,\n",
      " a criterion for stability of cluster assignment.\n"
     ]
    }
   ],
   "source": [
    "#remove all that have less than 50% cluster consistency\n",
    "good = np.where(metrics['cc'] > 0.5)\n",
    "good = np.add(good[0], 2) #cluster consistency starts at k=2\n",
    "print \"Cluster consistency metrics indicate that solutions {0} are valid.\".format(good)\n",
    "print \"This means that the minimum number of consistently assigned experiments was at least half the mean,\\na criterion for stability of cluster assignment.\""
   ]
  },
  {
   "cell_type": "code",
   "execution_count": 185,
   "metadata": {},
   "outputs": [
    {
     "name": "stdout",
     "output_type": "stream",
     "text": [
      "Variation of information indicates that solutions [6 8] are stable.\n",
      "Hierarchy index indicates that solutions [4 6 8] are stable.\n"
     ]
    }
   ],
   "source": [
    "vi_good = argrelmin(metrics['vi'])\n",
    "hi_good = argrelmin(metrics['hi'])\n",
    "vi_good = np.add(vi_good[0], 3) #VI starts at k=3\n",
    "print \"Variation of information (VI) indicates that solutions {0} are stable.\".format(vi_good)\n",
    "hi_good = np.add(hi_good[0], 3) #HI starts at k=3\n",
    "print \"Hierarchy index (HI) indicates that solutions {0} are stable.\".format(hi_good)"
   ]
  },
  {
   "cell_type": "code",
   "execution_count": 186,
   "metadata": {},
   "outputs": [
    {
     "name": "stdout",
     "output_type": "stream",
     "text": [
      "The smallest positive change in silhouette score is from [[6]] to the next solution,\n",
      "indicating that [[6]] presents optimal separation of data.\n"
     ]
    }
   ],
   "source": [
    "#find change of silhouette line for every K+1\n",
    "sil_slope = np.ediff1d(metrics['sil'])\n",
    "\n",
    "#find value of K+1 with smallest slope\n",
    "#this indicates that K is \"optimal\"\n",
    "sil_slope[sil_slope < 0] = 999. #negative silhouette changes indicate poor solutions and should not be considered\n",
    "sil_best = np.where(sil_slope == np.min(sil_slope))\n",
    "sil_best = np.add(sil_best, 2) #silhouette change starts at K+1=3, K=2\n",
    "print \"The smallest positive change in silhouette score is from {0} to the next solution,\\nindicating that {0} presents optimal separation of data.\".format(sil_best)"
   ]
  },
  {
   "cell_type": "code",
   "execution_count": 190,
   "metadata": {},
   "outputs": [
    {
     "name": "stdout",
     "output_type": "stream",
     "text": [
      "VI and HI agree on solution(s) [6 8].\n",
      "VI, HI, and cluster consistency agree on solution(s) [6 8].\n",
      "The metrics agree that [6] is the best solution.\n"
     ]
    }
   ],
   "source": [
    "agreement = np.intersect1d(vi_good, hi_good)\n",
    "if agreement.size:\n",
    "    print \"VI and HI agree on solution(s) {0}.\".format(agreement)\n",
    "else:\n",
    "    print \"VI and HI do not agree on any solutions.\"\n",
    "agreement = np.intersect1d(agreement, good)\n",
    "if agreement.size:\n",
    "    print \"VI, HI, and cluster consistency agree on solution(s) {0}.\".format(agreement)\n",
    "else:\n",
    "    print \"VVI, HI, and cluster consistency do not agree on any solutions.\"\n",
    "best = np.intersect1d(agreement, sil_best)\n",
    "if best.size:\n",
    "    print \"The metrics agree that {0} is the best solution.\".format(best)\n",
    "else:\n",
    "    print \"All four metrics do not agree on a solution.\""
   ]
  }
 ],
 "metadata": {
  "kernelspec": {
   "display_name": "Python 2",
   "language": "python",
   "name": "python2"
  },
  "language_info": {
   "codemirror_mode": {
    "name": "ipython",
    "version": 2
   },
   "file_extension": ".py",
   "mimetype": "text/x-python",
   "name": "python",
   "nbconvert_exporter": "python",
   "pygments_lexer": "ipython2",
   "version": "2.7.13"
  }
 },
 "nbformat": 4,
 "nbformat_minor": 2
}
